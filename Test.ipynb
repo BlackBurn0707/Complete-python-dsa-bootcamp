{
 "cells": [
  {
   "cell_type": "code",
   "execution_count": 46,
   "id": "8f4033dc",
   "metadata": {},
   "outputs": [
    {
     "data": {
      "text/plain": [
       "[[1, 2, 3], [4, 5, 6]]"
      ]
     },
     "execution_count": 46,
     "metadata": {},
     "output_type": "execute_result"
    }
   ],
   "source": [
    "def matrix_reshape(mat, r, c):\n",
    "    elements = 0\n",
    "    lst = []\n",
    "    for item in mat:\n",
    "        for i in item:\n",
    "            elements +=1\n",
    "            lst.append(i)\n",
    "    c_ = int(elements/r)\n",
    "    if c > c_:\n",
    "        c = c_\n",
    "    r_mat = []\n",
    "    for i in range(0, r, 1):\n",
    "        lst_2 = []\n",
    "        for j in range(i*c, (i+1)*c, 1):\n",
    "            lst_2.append(lst[j])\n",
    "        r_mat.append(lst_2)\n",
    "    return r_mat\n",
    "\n",
    "matrix_reshape([[1, 2], [3, 4], [5, 6]], 2, 4)\n",
    "\n"
   ]
  }
 ],
 "metadata": {
  "kernelspec": {
   "display_name": "venv (3.13.4)",
   "language": "python",
   "name": "python3"
  },
  "language_info": {
   "codemirror_mode": {
    "name": "ipython",
    "version": 3
   },
   "file_extension": ".py",
   "mimetype": "text/x-python",
   "name": "python",
   "nbconvert_exporter": "python",
   "pygments_lexer": "ipython3",
   "version": "3.13.4"
  }
 },
 "nbformat": 4,
 "nbformat_minor": 5
}

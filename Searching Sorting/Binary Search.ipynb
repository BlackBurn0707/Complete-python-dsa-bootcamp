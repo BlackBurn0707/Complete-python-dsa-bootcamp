{
 "cells": [
  {
   "cell_type": "code",
   "execution_count": 13,
   "id": "5a00dd6a",
   "metadata": {},
   "outputs": [
    {
     "name": "stdout",
     "output_type": "stream",
     "text": [
      "[1, 2, 4, 6, 12, 34, 45, 67, 78]\n"
     ]
    }
   ],
   "source": [
    "lst = [1, 45, 6, 78, 34, 4, 67, 12, 2]\n",
    "lst.sort()\n",
    "print(lst)"
   ]
  },
  {
   "cell_type": "code",
   "execution_count": 2,
   "id": "6f6fd403",
   "metadata": {},
   "outputs": [
    {
     "data": {
      "text/plain": [
       "7"
      ]
     },
     "execution_count": 2,
     "metadata": {},
     "output_type": "execute_result"
    }
   ],
   "source": [
    "def binary_search(lst, item):\n",
    "    start_i = 0\n",
    "    end_i = len(lst)-1\n",
    "    while start_i <= end_i:\n",
    "        mid_i = (end_i + start_i)//2\n",
    "        if lst[mid_i] > item:\n",
    "            end_i = mid_i - 1\n",
    "        elif lst[mid_i] < item:\n",
    "            start_i = mid_i + 1\n",
    "        elif lst[mid_i] == item:\n",
    "            return mid_i\n",
    "    return -1\n",
    "\n",
    "\n",
    "binary_search([1, 2, 4, 6, 12, 34, 45, 67], 67)"
   ]
  }
 ],
 "metadata": {
  "kernelspec": {
   "display_name": "venv",
   "language": "python",
   "name": "python3"
  },
  "language_info": {
   "codemirror_mode": {
    "name": "ipython",
    "version": 3
   },
   "file_extension": ".py",
   "mimetype": "text/x-python",
   "name": "python",
   "nbconvert_exporter": "python",
   "pygments_lexer": "ipython3",
   "version": "3.13.4"
  }
 },
 "nbformat": 4,
 "nbformat_minor": 5
}

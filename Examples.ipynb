{
 "cells": [
  {
   "cell_type": "code",
   "execution_count": null,
   "id": "2dc1721a",
   "metadata": {},
   "outputs": [
    {
     "data": {
      "text/plain": [
       "(19, 329, 2297)"
      ]
     },
     "execution_count": 34,
     "metadata": {},
     "output_type": "execute_result"
    },
    {
     "ename": "",
     "evalue": "",
     "output_type": "error",
     "traceback": [
      "\u001b[1;31mThe Kernel crashed while executing code in the current cell or a previous cell. \n",
      "\u001b[1;31mPlease review the code in the cell(s) to identify a possible cause of the failure. \n",
      "\u001b[1;31mClick <a href='https://aka.ms/vscodeJupyterKernelCrash'>here</a> for more info. \n",
      "\u001b[1;31mView Jupyter <a href='command:jupyter.viewOutput'>log</a> for further details."
     ]
    }
   ],
   "source": [
    "def analyze_text_file(file_path):\n",
    "    \"\"\"\n",
    "    Analyzes a text file to count its lines, words, and characters.\n",
    "\n",
    "    Args:\n",
    "        file_path (str): The absolute or relative path to the text file.\n",
    "\n",
    "    Returns:\n",
    "        tuple: A tuple containing three integers: (lines, words, characters).\n",
    "               Returns (0, 0, 0) if the file is empty or an error occurs.\n",
    "    \"\"\"\n",
    "    total_lines = 0\n",
    "    total_words = 0\n",
    "    total_characters = 0\n",
    "\n",
    "    try:\n",
    "        # 1. Opening the file in read mode ('r') with UTF-8 encoding\n",
    "        # The 'with' statement ensures the file is automatically closed.\n",
    "        # Using 'utf-8' encoding is good practice for text files.\n",
    "        with open(file_path, 'r', encoding='utf-8') as file:\n",
    "            # 2. Iterating through lines for efficiency, especially with large files\n",
    "            for line in file:\n",
    "                # 3. Counting lines: Increment for each line read\n",
    "                total_lines += 1\n",
    "\n",
    "                # 5. Counting characters: len(line) includes the newline character '\\n'\n",
    "                # If you want to exclude newlines, use len(line.strip()) or adjust accordingly\n",
    "                total_characters += len(line)\n",
    "\n",
    "                # 4. Counting words: Split the line by whitespace\n",
    "                # line.split() by default splits by any whitespace and handles multiple\n",
    "                # spaces between words correctly, returning a list of words.\n",
    "                words_in_line = line.split()\n",
    "                total_words += len(words_in_line)\n",
    "\n",
    "        # Return the collected counts\n",
    "        return total_lines, total_words, total_characters\n",
    "\n",
    "    except FileNotFoundError:\n",
    "        print(f\"Error: The file '{file_path}' was not found.\")\n",
    "        return 0, 0, 0 # Return zeros if file not found\n",
    "    except Exception as e:\n",
    "        print(f\"An unexpected error occurred while processing the file: {e}\")\n",
    "        return 0, 0, 0 # Return zeros for other errors\n",
    "\n",
    "analyze_text_file(r\"D:\\OneDrive\\Upskill\\Professional\\Python\\Complete-python-dsa-bootcamp\\Example.txt\")"
   ]
  }
 ],
 "metadata": {
  "kernelspec": {
   "display_name": "venv",
   "language": "python",
   "name": "python3"
  },
  "language_info": {
   "codemirror_mode": {
    "name": "ipython",
    "version": 3
   },
   "file_extension": ".py",
   "mimetype": "text/x-python",
   "name": "python",
   "nbconvert_exporter": "python",
   "pygments_lexer": "ipython3",
   "version": "3.13.4"
  }
 },
 "nbformat": 4,
 "nbformat_minor": 5
}
